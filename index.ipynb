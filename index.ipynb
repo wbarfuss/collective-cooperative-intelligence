{
 "cells": [
  {
   "attachments": {},
   "cell_type": "markdown",
   "metadata": {},
   "source": [
    "# Introduction"
   ]
  },
  {
   "attachments": {},
   "cell_type": "markdown",
   "metadata": {},
   "source": [
    "Collective cooperation – in which intelligent actors in complex environments seek ways to improve their joint well-being – is critical for a sustainable future, yet unresolved. Mathematical models are essential for moving forward with this challenge. \n",
    "Our perspective paper argues that building bridges between CSS and MARL offers a more robust understanding of the drivers, mechanisms, and dynamics of collective cooperation from intelligent actors in dynamic environments.\n",
    "Both fields complement each other in their goals, methods, and scope. "
   ]
  },
  {
   "attachments": {},
   "cell_type": "markdown",
   "metadata": {},
   "source": [
    "This supplementary information presents a more detailed background on the literature (@sec-background). Furthermore, we give all the details regarding the collective reinforcement learning dynamics we employ (@sec-framework) and how we applied it to create all complex phenomena presented in the main text (@sec-multistability - @sec-dynamicregimes). @sec-simulationscripts contains all required simulation scripts. "
   ]
  },
  {
   "cell_type": "markdown",
   "metadata": {},
   "source": [
    "### Reproducibility {.unnumbered}\n",
    "\n",
    "This supplementary information was created in a *fully reproducible writing and computing environment* with the help of [nbdev](https://nbdev.fast.ai) and [quarto](https://quarto.org). \n",
    "If you are reading the PDF or web version of this document, you can find the source code in form of Jupyter notebooks at [https://github.com/wbarfuss/collective-cooperative-intelligence](https://github.com/wbarfuss/collective-cooperative-intelligence).\n"
   ]
  },
  {
   "cell_type": "markdown",
   "metadata": {},
   "source": [
    "To reproduce all simulations, create a new conda environment with the provided `pythonenvironment.yml` file.\n",
    "\n",
    "```bash\n",
    "conda env create -f pythonenvironment.yml\n",
    "```\n",
    "\n",
    "This installs also the [Collective Reinforcement Learning Dynamics in Python](https://github.com/BarfussLab/pyCRLD). They are provided by a separate Python package, which is in its early stages of development. \n",
    "\n",
    "You activate the environment with:\n",
    "```bash\n",
    "conda activate cocoin\n",
    "```\n",
    "\n",
    "Afterwards, you should be able to follow along and execute all notebooks."
   ]
  },
  {
   "cell_type": "markdown",
   "metadata": {},
   "source": [
    "If you have any feedback, questions or problems with code, please do not hesitate to open a Github issue here: [https://github.com/wbarfuss/collective-cooperative-intelligence/issues](https://github.com/wbarfuss/collective-cooperative-intelligence/issues)."
   ]
  }
 ],
 "metadata": {
  "kernelspec": {
   "display_name": "python3",
   "language": "python",
   "name": "python3"
  }
 },
 "nbformat": 4,
 "nbformat_minor": 4
}
